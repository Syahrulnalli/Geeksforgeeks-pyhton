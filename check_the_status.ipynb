{
  "nbformat": 4,
  "nbformat_minor": 0,
  "metadata": {
    "colab": {
      "provenance": []
    },
    "kernelspec": {
      "name": "python3",
      "display_name": "Python 3"
    },
    "language_info": {
      "name": "python"
    }
  },
  "cells": [
    {
      "cell_type": "code",
      "execution_count": 1,
      "metadata": {
        "colab": {
          "base_uri": "https://localhost:8080/"
        },
        "id": "ZnY6df_nipR7",
        "outputId": "0b508c0d-c017-4d5c-93b3-630fa40ef4e8"
      },
      "outputs": [
        {
          "output_type": "stream",
          "name": "stdout",
          "text": [
            "enter the number:1\n",
            "enter the number:-1\n",
            "False\n"
          ]
        }
      ],
      "source": [
        "a=int(input(\"enter the number:\"))\n",
        "b=int(input(\"enter the number:\"))\n",
        "if a>0 and b>0:\n",
        "        print(\"True\")\n",
        "elif a<0 and b<0:\n",
        "        print(\"True\")\n",
        "else:\n",
        "  print(\"False\")"
      ]
    }
  ]
}